{
 "cells": [
  {
   "cell_type": "code",
   "execution_count": 27,
   "id": "937348f6",
   "metadata": {},
   "outputs": [
    {
     "data": {
      "application/vnd.jupyter.widget-view+json": {
       "model_id": "",
       "version_major": 2,
       "version_minor": 0
      },
      "text/plain": [
       "FloatProgress(value=0.0, bar_style='info', description='Progress:', layout=Layout(height='25px', width='50%'),…"
      ]
     },
     "metadata": {},
     "output_type": "display_data"
    }
   ],
   "source": [
    "from pyspark.sql import SparkSession\n",
    "from pyspark.sql.functions import *\n",
    "from pyspark.sql.types import *"
   ]
  },
  {
   "cell_type": "code",
   "execution_count": 28,
   "id": "6648ae2a",
   "metadata": {},
   "outputs": [
    {
     "data": {
      "application/vnd.jupyter.widget-view+json": {
       "model_id": "",
       "version_major": 2,
       "version_minor": 0
      },
      "text/plain": [
       "FloatProgress(value=0.0, bar_style='info', description='Progress:', layout=Layout(height='25px', width='50%'),…"
      ]
     },
     "metadata": {},
     "output_type": "display_data"
    }
   ],
   "source": [
    "spark = SparkSession.builder.appName(\"SparkSQL Movie Data Analysis\").enableHiveSupport().getOrCreate()"
   ]
  },
  {
   "cell_type": "code",
   "execution_count": 29,
   "id": "f4d1986b",
   "metadata": {},
   "outputs": [
    {
     "data": {
      "application/vnd.jupyter.widget-view+json": {
       "model_id": "",
       "version_major": 2,
       "version_minor": 0
      },
      "text/plain": [
       "FloatProgress(value=0.0, bar_style='info', description='Progress:', layout=Layout(height='25px', width='50%'),…"
      ]
     },
     "metadata": {},
     "output_type": "display_data"
    },
    {
     "name": "stdout",
     "output_type": "stream",
     "text": [
      "root\n",
      " |-- movieId: string (nullable = true)\n",
      " |-- title: string (nullable = true)\n",
      " |-- genres: string (nullable = true)"
     ]
    }
   ],
   "source": [
    "hdfs_path = '/tmp/datasets/movies.csv'\n",
    "movies = spark.read.format(\"csv\").option(\"multiline\", \"true\").option(\"header\", \"true\").load(hdfs_path)\n",
    "movies.printSchema()"
   ]
  },
  {
   "cell_type": "code",
   "execution_count": 30,
   "id": "8b1fb0a9",
   "metadata": {},
   "outputs": [
    {
     "data": {
      "application/vnd.jupyter.widget-view+json": {
       "model_id": "",
       "version_major": 2,
       "version_minor": 0
      },
      "text/plain": [
       "FloatProgress(value=0.0, bar_style='info', description='Progress:', layout=Layout(height='25px', width='50%'),…"
      ]
     },
     "metadata": {},
     "output_type": "display_data"
    },
    {
     "name": "stdout",
     "output_type": "stream",
     "text": [
      "+-------+--------------------+--------------------+\n",
      "|movieId|               title|              genres|\n",
      "+-------+--------------------+--------------------+\n",
      "|      1|    Toy Story (1995)|Adventure|Animati...|\n",
      "|      2|      Jumanji (1995)|Adventure|Childre...|\n",
      "|      3|Grumpier Old Men ...|      Comedy|Romance|\n",
      "|      4|Waiting to Exhale...|Comedy|Drama|Romance|\n",
      "|      5|Father of the Bri...|              Comedy|\n",
      "|      6|         Heat (1995)|Action|Crime|Thri...|\n",
      "|      7|      Sabrina (1995)|      Comedy|Romance|\n",
      "|      8| Tom and Huck (1995)|  Adventure|Children|\n",
      "|      9| Sudden Death (1995)|              Action|\n",
      "|     10|    GoldenEye (1995)|Action|Adventure|...|\n",
      "|     11|American Presiden...|Comedy|Drama|Romance|\n",
      "|     12|Dracula: Dead and...|       Comedy|Horror|\n",
      "|     13|        Balto (1995)|Adventure|Animati...|\n",
      "|     14|        Nixon (1995)|               Drama|\n",
      "|     15|Cutthroat Island ...|Action|Adventure|...|\n",
      "+-------+--------------------+--------------------+\n",
      "only showing top 15 rows"
     ]
    }
   ],
   "source": [
    "movies.show(15)"
   ]
  },
  {
   "cell_type": "code",
   "execution_count": 31,
   "id": "62a93f0e",
   "metadata": {},
   "outputs": [
    {
     "data": {
      "application/vnd.jupyter.widget-view+json": {
       "model_id": "",
       "version_major": 2,
       "version_minor": 0
      },
      "text/plain": [
       "FloatProgress(value=0.0, bar_style='info', description='Progress:', layout=Layout(height='25px', width='50%'),…"
      ]
     },
     "metadata": {},
     "output_type": "display_data"
    },
    {
     "name": "stdout",
     "output_type": "stream",
     "text": [
      "root\n",
      " |-- movieId: integer (nullable = true)\n",
      " |-- title: string (nullable = true)\n",
      " |-- genres: string (nullable = true)"
     ]
    }
   ],
   "source": [
    "# define Schema\n",
    "movies_schema = StructType([\n",
    "    StructField(\"movieId\", IntegerType(), True),\n",
    "    StructField(\"title\", StringType(), True),\n",
    "    StructField(\"genres\", StringType(), True)\n",
    "])\n",
    "movies = spark.read.format(\"csv\").option(\"multiline\", \"true\").option(\"header\", \"true\").schema(movies_schema).load(hdfs_path)\n",
    "movies.printSchema()"
   ]
  },
  {
   "cell_type": "code",
   "execution_count": 32,
   "id": "24a3f29d",
   "metadata": {},
   "outputs": [
    {
     "data": {
      "application/vnd.jupyter.widget-view+json": {
       "model_id": "",
       "version_major": 2,
       "version_minor": 0
      },
      "text/plain": [
       "FloatProgress(value=0.0, bar_style='info', description='Progress:', layout=Layout(height='25px', width='50%'),…"
      ]
     },
     "metadata": {},
     "output_type": "display_data"
    },
    {
     "name": "stdout",
     "output_type": "stream",
     "text": [
      "root\n",
      " |-- userId: integer (nullable = true)\n",
      " |-- movieId: integer (nullable = true)\n",
      " |-- rating: float (nullable = true)\n",
      " |-- timestamp: integer (nullable = true)"
     ]
    }
   ],
   "source": [
    "hdfs_path_r = '/tmp/datasets/ratings.csv'\n",
    "ratings_schema = StructType([\n",
    "    StructField(\"userId\", IntegerType(), True),\n",
    "    StructField(\"movieId\", IntegerType(), True),\n",
    "    StructField(\"rating\", FloatType(), True),\n",
    "    StructField(\"timestamp\", IntegerType(), True)\n",
    "])\n",
    "\n",
    "ratings = spark.read.format(\"csv\").option(\"header\", \"true\").option(\"multiline\", \"true\").schema(ratings_schema).load(hdfs_path_r)\n",
    "ratings.printSchema()"
   ]
  },
  {
   "cell_type": "code",
   "execution_count": 33,
   "id": "37c7867e",
   "metadata": {},
   "outputs": [
    {
     "data": {
      "application/vnd.jupyter.widget-view+json": {
       "model_id": "",
       "version_major": 2,
       "version_minor": 0
      },
      "text/plain": [
       "FloatProgress(value=0.0, bar_style='info', description='Progress:', layout=Layout(height='25px', width='50%'),…"
      ]
     },
     "metadata": {},
     "output_type": "display_data"
    },
    {
     "name": "stdout",
     "output_type": "stream",
     "text": [
      "+------+-------+------+---------+\n",
      "|userId|movieId|rating|timestamp|\n",
      "+------+-------+------+---------+\n",
      "|     1|      1|   4.0|964982703|\n",
      "|     1|      3|   4.0|964981247|\n",
      "|     1|      6|   4.0|964982224|\n",
      "|     1|     47|   5.0|964983815|\n",
      "|     1|     50|   5.0|964982931|\n",
      "+------+-------+------+---------+\n",
      "only showing top 5 rows"
     ]
    }
   ],
   "source": [
    "ratings.show(5)"
   ]
  },
  {
   "cell_type": "code",
   "execution_count": 34,
   "id": "0e7da30f",
   "metadata": {},
   "outputs": [
    {
     "data": {
      "application/vnd.jupyter.widget-view+json": {
       "model_id": "",
       "version_major": 2,
       "version_minor": 0
      },
      "text/plain": [
       "FloatProgress(value=0.0, bar_style='info', description='Progress:', layout=Layout(height='25px', width='50%'),…"
      ]
     },
     "metadata": {},
     "output_type": "display_data"
    },
    {
     "name": "stdout",
     "output_type": "stream",
     "text": [
      "+------+-------+------+-------------------+\n",
      "|userId|movieId|rating|          timestamp|\n",
      "+------+-------+------+-------------------+\n",
      "|     1|      1|   4.0|2000-07-30 18:45:03|\n",
      "|     1|      3|   4.0|2000-07-30 18:20:47|\n",
      "|     1|      6|   4.0|2000-07-30 18:37:04|\n",
      "|     1|     47|   5.0|2000-07-30 19:03:35|\n",
      "|     1|     50|   5.0|2000-07-30 18:48:51|\n",
      "+------+-------+------+-------------------+\n",
      "only showing top 5 rows"
     ]
    }
   ],
   "source": [
    "ratings = ratings.withColumn(\"timestamp\", to_timestamp(ratings[\"timestamp\"]))\n",
    "ratings.show(5)"
   ]
  },
  {
   "cell_type": "code",
   "execution_count": 35,
   "id": "dab53761",
   "metadata": {},
   "outputs": [
    {
     "data": {
      "application/vnd.jupyter.widget-view+json": {
       "model_id": "",
       "version_major": 2,
       "version_minor": 0
      },
      "text/plain": [
       "FloatProgress(value=0.0, bar_style='info', description='Progress:', layout=Layout(height='25px', width='50%'),…"
      ]
     },
     "metadata": {},
     "output_type": "display_data"
    },
    {
     "name": "stdout",
     "output_type": "stream",
     "text": [
      "root\n",
      " |-- userId: integer (nullable = true)\n",
      " |-- movieId: integer (nullable = true)\n",
      " |-- tag: string (nullable = true)\n",
      " |-- timestamp: integer (nullable = true)"
     ]
    }
   ],
   "source": [
    "hdfs_path_t = '/tmp/datasets/tags.csv'\n",
    "tags_schema = StructType([\n",
    "    StructField(\"userId\", IntegerType(), True),\n",
    "    StructField(\"movieId\", IntegerType(), True),\n",
    "    StructField(\"tag\", StringType(), True),\n",
    "    StructField(\"timestamp\", IntegerType(), True)\n",
    "])\n",
    "\n",
    "tags = spark.read.format(\"csv\").option(\"header\", \"true\").option(\"multiline\", \"true\").schema(tags_schema).load(hdfs_path_t)\n",
    "tags.printSchema()"
   ]
  },
  {
   "cell_type": "code",
   "execution_count": 36,
   "id": "56886755",
   "metadata": {},
   "outputs": [
    {
     "data": {
      "application/vnd.jupyter.widget-view+json": {
       "model_id": "",
       "version_major": 2,
       "version_minor": 0
      },
      "text/plain": [
       "FloatProgress(value=0.0, bar_style='info', description='Progress:', layout=Layout(height='25px', width='50%'),…"
      ]
     },
     "metadata": {},
     "output_type": "display_data"
    },
    {
     "name": "stdout",
     "output_type": "stream",
     "text": [
      "+------+-------+---------------+-------------------+\n",
      "|userId|movieId|            tag|          timestamp|\n",
      "+------+-------+---------------+-------------------+\n",
      "|     2|  60756|          funny|2015-10-24 19:29:54|\n",
      "|     2|  60756|Highly quotable|2015-10-24 19:29:56|\n",
      "|     2|  60756|   will ferrell|2015-10-24 19:29:52|\n",
      "|     2|  89774|   Boxing story|2015-10-24 19:33:27|\n",
      "|     2|  89774|            MMA|2015-10-24 19:33:20|\n",
      "+------+-------+---------------+-------------------+\n",
      "only showing top 5 rows"
     ]
    }
   ],
   "source": [
    "tags = tags.withColumn(\"timestamp\", to_timestamp(tags[\"timestamp\"]))\n",
    "tags.show(5)"
   ]
  },
  {
   "cell_type": "markdown",
   "id": "b39e66ca",
   "metadata": {},
   "source": [
    "# 1. Show the aggregated number of ratings per year"
   ]
  },
  {
   "cell_type": "code",
   "execution_count": 37,
   "id": "472d27d2",
   "metadata": {},
   "outputs": [
    {
     "data": {
      "application/vnd.jupyter.widget-view+json": {
       "model_id": "",
       "version_major": 2,
       "version_minor": 0
      },
      "text/plain": [
       "FloatProgress(value=0.0, bar_style='info', description='Progress:', layout=Layout(height='25px', width='50%'),…"
      ]
     },
     "metadata": {},
     "output_type": "display_data"
    }
   ],
   "source": [
    "movies.createOrReplaceTempView(\"MOVIES\")\n",
    "ratings.createOrReplaceTempView(\"RATINGS\")\n",
    "tags.createOrReplaceTempView(\"TAGS\")"
   ]
  },
  {
   "cell_type": "code",
   "execution_count": 38,
   "id": "ffe97e6d",
   "metadata": {},
   "outputs": [
    {
     "data": {
      "application/vnd.jupyter.widget-view+json": {
       "model_id": "",
       "version_major": 2,
       "version_minor": 0
      },
      "text/plain": [
       "FloatProgress(value=0.0, bar_style='info', description='Progress:', layout=Layout(height='25px', width='50%'),…"
      ]
     },
     "metadata": {},
     "output_type": "display_data"
    },
    {
     "name": "stdout",
     "output_type": "stream",
     "text": [
      "+----+------+\n",
      "|YEAR|rating|\n",
      "+----+------+\n",
      "|2018|  6418|\n",
      "|2017|  8198|\n",
      "|2016|  6703|\n",
      "|2015|  6616|\n",
      "|2014|  1439|\n",
      "|2013|  1664|\n",
      "|2012|  4656|\n",
      "|2011|  1690|\n",
      "|2010|  2301|\n",
      "|2009|  4158|\n",
      "|2008|  4351|\n",
      "|2007|  7114|\n",
      "|2006|  4059|\n",
      "|2005|  5813|\n",
      "|2004|  3279|\n",
      "|2003|  4014|\n",
      "|2002|  3478|\n",
      "|2001|  3922|\n",
      "|2000| 10061|\n",
      "|1999|  2439|\n",
      "+----+------+\n",
      "only showing top 20 rows\n",
      "\n",
      "Write Successful"
     ]
    }
   ],
   "source": [
    "query = \"\"\"SELECT year(timestamp) AS YEAR, count(rating) AS rating FROM RATINGS\n",
    "        GROUP BY YEAR ORDER BY 1 desc\"\"\"\n",
    "\n",
    "output = spark.sql(query)\n",
    "output.show()\n",
    "\n",
    "output.coalesce(1).write.mode(\"overwrite\").format('csv').option('header', 'true').option('delimiter', ',').save('/tmp/output_data/Movie_Data_Analysis/agg_ratings_per_year.csv')\n",
    "print(\"Write Successful\")"
   ]
  },
  {
   "cell_type": "markdown",
   "id": "45f0796f",
   "metadata": {},
   "source": [
    "# 2. Show the average monthly number of ratings"
   ]
  },
  {
   "cell_type": "code",
   "execution_count": 39,
   "id": "01e01b08",
   "metadata": {},
   "outputs": [
    {
     "data": {
      "application/vnd.jupyter.widget-view+json": {
       "model_id": "",
       "version_major": 2,
       "version_minor": 0
      },
      "text/plain": [
       "FloatProgress(value=0.0, bar_style='info', description='Progress:', layout=Layout(height='25px', width='50%'),…"
      ]
     },
     "metadata": {},
     "output_type": "display_data"
    },
    {
     "name": "stdout",
     "output_type": "stream",
     "text": [
      "+----+-----+--------------+\n",
      "|Year|Month|Average_Rating|\n",
      "+----+-----+--------------+\n",
      "|2018|    9|       3.56871|\n",
      "|2018|    8|       3.55776|\n",
      "|2018|    7|       4.01024|\n",
      "|2018|    6|       3.97971|\n",
      "|2018|    5|       2.95163|\n",
      "|2018|    4|          3.75|\n",
      "|2018|    3|       3.78682|\n",
      "|2018|    2|       2.73867|\n",
      "|2018|    1|       3.41947|\n",
      "|2017|   12|       3.26119|\n",
      "|2017|   11|       3.65217|\n",
      "|2017|   10|       3.52444|\n",
      "|2017|    9|       3.68278|\n",
      "|2017|    8|       4.07692|\n",
      "|2017|    7|       4.05294|\n",
      "|2017|    6|       2.95942|\n",
      "|2017|    5|       3.48018|\n",
      "|2017|    4|       3.62622|\n",
      "|2017|    3|         3.051|\n",
      "|2017|    2|       2.75476|\n",
      "+----+-----+--------------+\n",
      "only showing top 20 rows\n",
      "\n",
      "Write Successful"
     ]
    }
   ],
   "source": [
    "query = \"\"\" SELECT year(timestamp) AS Year,month(timestamp) AS Month, ROUND(AVG(rating),5) AS Average_Rating\n",
    "FROM RATINGS\n",
    "GROUP BY 1, 2\n",
    "ORDER BY 1 DESC, 2 DESC\"\"\"\n",
    "output = spark.sql(query)\n",
    "output.show()\n",
    "\n",
    "output.coalesce(1).write.mode(\"overwrite\").format('csv').option('header', 'true').option('delimiter', ',').save('/tmp/output_data/Movie_Data_Analysis/agg_ratings_per_year_per_month.csv')\n",
    "print(\"Write Successful\")"
   ]
  },
  {
   "cell_type": "markdown",
   "id": "a432e7e6",
   "metadata": {},
   "source": [
    "# 3. Show the rating levels distribution"
   ]
  },
  {
   "cell_type": "code",
   "execution_count": 40,
   "id": "ca13030b",
   "metadata": {},
   "outputs": [
    {
     "data": {
      "application/vnd.jupyter.widget-view+json": {
       "model_id": "",
       "version_major": 2,
       "version_minor": 0
      },
      "text/plain": [
       "FloatProgress(value=0.0, bar_style='info', description='Progress:', layout=Layout(height='25px', width='50%'),…"
      ]
     },
     "metadata": {},
     "output_type": "display_data"
    },
    {
     "name": "stdout",
     "output_type": "stream",
     "text": [
      "+------------+-----+----------+\n",
      "|Rating_Range|count|Percentage|\n",
      "+------------+-----+----------+\n",
      "|     0 - 0.9| 1370|       1.4|\n",
      "|     1 - 2.4|12153|      12.1|\n",
      "|   2.5 - 3.4|25597|      25.4|\n",
      "|   3.5 - 5.0|61716|      61.2|\n",
      "+------------+-----+----------+\n",
      "\n",
      "Write Successful!"
     ]
    }
   ],
   "source": [
    "query = \"\"\"\n",
    "WITH t1 AS (\n",
    "  SELECT rating,\n",
    "  CASE\n",
    "    WHEN rating > 0 AND rating < 1 THEN \"0 - 0.9\"\n",
    "    WHEN rating >= 1 AND rating < 2.5 THEN \"1 - 2.4\"\n",
    "    WHEN rating >= 2.5 AND rating < 3.5 THEN \"2.5 - 3.4\"\n",
    "    WHEN rating >= 3.5 THEN \"3.5 - 5.0\"\n",
    "  END AS Rating_Range\n",
    "  FROM RATINGS\n",
    "),\n",
    "t2 AS (\n",
    "SELECT Rating_Range, count(rating) as Count\n",
    "FROM t1\n",
    "GROUP BY 1\n",
    "ORDER BY 1)\n",
    "\n",
    "SELECT Rating_Range,count, ROUND(count*100/sum(count)over(),1) Percentage FROM t2\n",
    "\n",
    "\"\"\"\n",
    "\n",
    "output = spark.sql(query)\n",
    "output.show()\n",
    "\n",
    "output.coalesce(1).write.mode(\"overwrite\").format(\"csv\").option('header', 'true').option('delimiter', ',').save('/tmp/output_data/Movie_Data_Analysis/rating_levels_distribution.csv')\n",
    "print(\"Write Successful!\")"
   ]
  },
  {
   "cell_type": "markdown",
   "id": "18dc8811",
   "metadata": {},
   "source": [
    "# 4. Show the 18 movies that are tagged but not rated"
   ]
  },
  {
   "cell_type": "code",
   "execution_count": 41,
   "id": "2cd3e15e",
   "metadata": {},
   "outputs": [
    {
     "data": {
      "application/vnd.jupyter.widget-view+json": {
       "model_id": "",
       "version_major": 2,
       "version_minor": 0
      },
      "text/plain": [
       "FloatProgress(value=0.0, bar_style='info', description='Progress:', layout=Layout(height='25px', width='50%'),…"
      ]
     },
     "metadata": {},
     "output_type": "display_data"
    },
    {
     "name": "stdout",
     "output_type": "stream",
     "text": [
      "+--------------------+\n",
      "|               title|\n",
      "+--------------------+\n",
      "|Browning Version,...|\n",
      "|Call Northside 77...|\n",
      "|  Chalet Girl (2011)|\n",
      "|  Chosen, The (1981)|\n",
      "|Color of Paradise...|\n",
      "|For All Mankind (...|\n",
      "|I Know Where I'm ...|\n",
      "|In the Realms of ...|\n",
      "|Innocents, The (1...|\n",
      "|Mutiny on the Bou...|\n",
      "|      Niagara (1953)|\n",
      "|Parallax View, Th...|\n",
      "|        Proof (1991)|\n",
      "|Road Home, The (W...|\n",
      "|Roaring Twenties,...|\n",
      "|      Scrooge (1970)|\n",
      "|This Gun for Hire...|\n",
      "|Twentieth Century...|\n",
      "+--------------------+\n",
      "\n",
      "Write Successful!"
     ]
    }
   ],
   "source": [
    "query = \"\"\"WITH t1 AS\n",
    "(SELECT DISTINCT T.movieId FROM TAGS T\n",
    "LEFT OUTER JOIN RATINGS R\n",
    "ON T.movieId = R.movieId\n",
    "WHERE R.movieId IS NULL)\n",
    "\n",
    "SELECT M.title FROM\n",
    "MOVIES M INNER JOIN t1\n",
    "ON M.movieId = t1.movieId\n",
    "ORDER BY 1\n",
    "\"\"\"\n",
    "\n",
    "output = spark.sql(query)\n",
    "output.show()\n",
    "\n",
    "output.coalesce(1).write.mode(\"overwrite\").format('csv').option('header', 'true') .option('delimiter', ',').save('/tmp/output_data/Movie_Data_Analysis/movies_tagged_but_not_rated.csv')\n",
    "print(\"Write Successful!\")"
   ]
  },
  {
   "cell_type": "markdown",
   "id": "f6ea0500",
   "metadata": {},
   "source": [
    "# 5. Show the movies that have rating but not tagged"
   ]
  },
  {
   "cell_type": "code",
   "execution_count": 42,
   "id": "538a7ec6",
   "metadata": {},
   "outputs": [
    {
     "data": {
      "application/vnd.jupyter.widget-view+json": {
       "model_id": "",
       "version_major": 2,
       "version_minor": 0
      },
      "text/plain": [
       "FloatProgress(value=0.0, bar_style='info', description='Progress:', layout=Layout(height='25px', width='50%'),…"
      ]
     },
     "metadata": {},
     "output_type": "display_data"
    },
    {
     "name": "stdout",
     "output_type": "stream",
     "text": [
      "+--------------------+\n",
      "|               title|\n",
      "+--------------------+\n",
      "|          '71 (2014)|\n",
      "|'Hellboy': The Se...|\n",
      "|'Round Midnight (...|\n",
      "| 'Salem's Lot (2004)|\n",
      "|'Til There Was Yo...|\n",
      "|'Tis the Season f...|\n",
      "|  'burbs, The (1989)|\n",
      "|'night Mother (1986)|\n",
      "|*batteries not in...|\n",
      "|...All the Marble...|\n",
      "|00 Schneider - Ja...|\n",
      "|   1-900 (06) (1994)|\n",
      "|           10 (1979)|\n",
      "|10 Cent Pistol (2...|\n",
      "|10 Items or Less ...|\n",
      "|     10 Years (2011)|\n",
      "|    10,000 BC (2008)|\n",
      "|    100 Girls (2000)|\n",
      "|  100 Streets (2016)|\n",
      "|101 Dalmatians II...|\n",
      "+--------------------+\n",
      "only showing top 20 rows\n",
      "\n",
      "Write Successful!"
     ]
    }
   ],
   "source": [
    "query = \"\"\"WITH t1 AS\n",
    "(SELECT DISTINCT R.movieId FROM RATINGS R\n",
    "LEFT OUTER JOIN TAGS T\n",
    "ON T.movieId = R.movieId\n",
    "WHERE T.movieId IS NULL)\n",
    "\n",
    "SELECT M.title FROM\n",
    "MOVIES M INNER JOIN t1\n",
    "ON M.movieId = t1.movieId\n",
    "ORDER BY 1\n",
    "\"\"\"\n",
    "\n",
    "output = spark.sql(query)\n",
    "output.show()\n",
    "\n",
    "output.coalesce(1).write.mode(\"overwrite\").format('csv').option('header', 'true') .option('delimiter', ',').save('/tmp/output_data/Movie_Data_Analysis/movies_rated_but_not_tagged.csv')\n",
    "print(\"Write Successful!\")"
   ]
  },
  {
   "cell_type": "markdown",
   "id": "a44e3037",
   "metadata": {},
   "source": [
    "# 6. Focusing on the rated untagged movies with more than 30 user ratings, show the top 10 movies in terms of average rating and number of ratings"
   ]
  },
  {
   "cell_type": "code",
   "execution_count": 43,
   "id": "c5388293",
   "metadata": {},
   "outputs": [
    {
     "data": {
      "application/vnd.jupyter.widget-view+json": {
       "model_id": "",
       "version_major": 2,
       "version_minor": 0
      },
      "text/plain": [
       "FloatProgress(value=0.0, bar_style='info', description='Progress:', layout=Layout(height='25px', width='50%'),…"
      ]
     },
     "metadata": {},
     "output_type": "display_data"
    },
    {
     "name": "stdout",
     "output_type": "stream",
     "text": [
      "+--------------------+-----------+----------+--------------------+--------------+--------+\n",
      "|         count_title|total_count|count_rank|           avg_title|average_rating|avg_rank|\n",
      "+--------------------+-----------+----------+--------------------+--------------+--------+\n",
      "|American Beauty (...|        204|         1|Boondock Saints, ...|          4.22|       1|\n",
      "|Ace Ventura: Pet ...|        161|         2|       Brazil (1985)|          4.18|       2|\n",
      "|    Mask, The (1994)|        157|         3|Cinema Paradiso (...|          4.16|       3|\n",
      "|     Die Hard (1988)|        145|         4|       Snatch (2000)|          4.16|       4|\n",
      "|Die Hard: With a ...|        144|         5|For a Few Dollars...|          4.15|       5|\n",
      "|Groundhog Day (1993)|        143|         6|Lives of Others, ...|          4.12|       6|\n",
      "|Dumb & Dumber (Du...|        133|         7|  Toy Story 3 (2010)|          4.11|       7|\n",
      "|Monsters, Inc. (2...|        132|         8|Boogie Nights (1997)|          4.08|       8|\n",
      "|    GoldenEye (1995)|        132|         8|Boogie Nights (1997)|          4.08|       8|\n",
      "|Austin Powers: Th...|        121|         9|American Beauty (...|          4.06|       9|\n",
      "|Willy Wonka & the...|        119|        10|Lock, Stock & Two...|          4.05|      10|\n",
      "+--------------------+-----------+----------+--------------------+--------------+--------+\n",
      "\n",
      "Write Successful!"
     ]
    }
   ],
   "source": [
    "query = \"\"\"WITH t1 AS (\n",
    "  SELECT R.movieId, COUNT(R.rating) AS total_count, AVG(R.rating) AS average_rating\n",
    "  FROM RATINGS R\n",
    "  LEFT OUTER JOIN TAGS T ON R.movieId = T.movieId\n",
    "  WHERE T.tag IS NULL\n",
    "  GROUP BY R.movieId\n",
    "  HAVING COUNT(R.rating) > 30\n",
    "  ORDER BY total_count DESC\n",
    "),\n",
    "\n",
    "t2 AS (\n",
    "  SELECT M.title, t1.movieId, t1.average_rating,\n",
    "         DENSE_RANK() OVER (ORDER BY t1.average_rating DESC) AS avg_rank\n",
    "  FROM MOVIES M\n",
    "  INNER JOIN t1 ON M.movieId = t1.movieId\n",
    "),\n",
    "\n",
    "t3 AS (\n",
    "   SELECT t2.title, t2.movieId, t1.total_count,\n",
    "         DENSE_RANK() OVER (ORDER BY total_count DESC) AS count_rank\n",
    "  FROM t2\n",
    "  INNER JOIN t1 ON t2.movieId = t1.movieId\n",
    ")\n",
    "\n",
    "SELECT t3.title AS count_title ,t3.total_count , t3.count_rank, t2.title AS avg_title, ROUND(t2.average_rating,2) average_rating, avg_rank FROM t3 INNER JOIN t2 ON t2.avg_rank = t3.count_rank\n",
    "WHERE t2.avg_rank <= 10 AND t3.count_rank <= 10\n",
    "\"\"\"\n",
    "\n",
    "output = spark.sql(query)\n",
    "output.show()\n",
    "\n",
    "output.coalesce(1).write.mode(\"overwrite\").format('csv').option('header', 'true') .option('delimiter', ',').save('/tmp/output_data/Movie_Data_Analysis/top_10_movies_in_average_and_number_of_ratings.csv')\n",
    "print(\"Write Successful!\")"
   ]
  },
  {
   "cell_type": "markdown",
   "id": "e1c84e6b",
   "metadata": {},
   "source": [
    "# 7. What is the average number of tags per movie in tagsDF? And the average number of tags per user? How does it compare with the average number of tags a user assigns to a movie?"
   ]
  },
  {
   "cell_type": "code",
   "execution_count": 44,
   "id": "a4808adc",
   "metadata": {},
   "outputs": [
    {
     "data": {
      "application/vnd.jupyter.widget-view+json": {
       "model_id": "",
       "version_major": 2,
       "version_minor": 0
      },
      "text/plain": [
       "FloatProgress(value=0.0, bar_style='info', description='Progress:', layout=Layout(height='25px', width='50%'),…"
      ]
     },
     "metadata": {},
     "output_type": "display_data"
    },
    {
     "name": "stdout",
     "output_type": "stream",
     "text": [
      "+--------------+-------------+--------------------+\n",
      "|tags_per_movie|tags_per_user|          Comparison|\n",
      "+--------------+-------------+--------------------+\n",
      "|          2.34|         63.5|tags_per_user is ...|\n",
      "+--------------+-------------+--------------------+\n",
      "\n",
      "Write Successful!"
     ]
    }
   ],
   "source": [
    "query = \"\"\"with t1 as(\n",
    "          Select '1' as key, round((sum(CASE when tag IS NOT NULL THEN 1 ELSE 0 END)/count(distinct movieid)),2) as tags_per_movie\n",
    "          from TAGS),\n",
    "\n",
    "          t2 as ( Select '1' as key, (sum(CASE WHEN tag IS NOT NULL THEN 1 ELSE 0 END)/count(distinct userid)) as tags_per_user\n",
    "          from TAGS)\n",
    "\n",
    "          Select t1.tags_per_movie,t2.tags_per_user,\n",
    "          CASE WHEN tags_per_user>tags_per_movie THEN 'tags_per_user is higher'\n",
    "          ELSE 'tags_per_movie is higher' END as Comparison\n",
    "          from t1 inner join t2 on t1.key=t2.key\"\"\"\n",
    "\n",
    "output = spark.sql(query)\n",
    "output.show()\n",
    "\n",
    "output.coalesce(1).write.mode(\"overwrite\").format('csv').option('header', 'true') .option('delimiter', ',').save('/tmp/output_data/Movie_Data_Analysis/tags_per_user_vs_tags_per_movie.csv')\n",
    "print(\"Write Successful!\")"
   ]
  },
  {
   "cell_type": "markdown",
   "id": "b09a4901",
   "metadata": {},
   "source": [
    "# 8. Identify the users that tagged movies without rating them"
   ]
  },
  {
   "cell_type": "code",
   "execution_count": 45,
   "id": "d1a55812",
   "metadata": {},
   "outputs": [
    {
     "data": {
      "application/vnd.jupyter.widget-view+json": {
       "model_id": "",
       "version_major": 2,
       "version_minor": 0
      },
      "text/plain": [
       "FloatProgress(value=0.0, bar_style='info', description='Progress:', layout=Layout(height='25px', width='50%'),…"
      ]
     },
     "metadata": {},
     "output_type": "display_data"
    },
    {
     "name": "stdout",
     "output_type": "stream",
     "text": [
      "+------+\n",
      "|userId|\n",
      "+------+\n",
      "|   474|\n",
      "|   288|\n",
      "|   543|\n",
      "|   318|\n",
      "+------+\n",
      "\n",
      "Write Successful!"
     ]
    }
   ],
   "source": [
    "query = \"\"\"WITH t1 AS\n",
    "(SELECT DISTINCT T.userId FROM TAGS T\n",
    "LEFT OUTER JOIN RATINGS R\n",
    "ON T.movieId = R.movieId\n",
    "WHERE R.userId IS NULL)\n",
    "SELECT * FROM t1\n",
    "\"\"\"\n",
    "\n",
    "output = spark.sql(query)\n",
    "output.show()\n",
    "\n",
    "output.coalesce(1).write.mode(\"overwrite\").format('csv').option('header', 'true') .option('delimiter', ',').save('/tmp/output_data/Movie_Data_Analysis/users_that_tagged_movies_without_rating_them.csv')\n",
    "print(\"Write Successful!\")"
   ]
  },
  {
   "cell_type": "markdown",
   "id": "4c00b2eb",
   "metadata": {},
   "source": [
    "# 9. What is the average number of ratings per user in ratings DF? And the average number of ratings per movie?"
   ]
  },
  {
   "cell_type": "code",
   "execution_count": 46,
   "id": "38a1e33c",
   "metadata": {},
   "outputs": [
    {
     "data": {
      "application/vnd.jupyter.widget-view+json": {
       "model_id": "",
       "version_major": 2,
       "version_minor": 0
      },
      "text/plain": [
       "FloatProgress(value=0.0, bar_style='info', description='Progress:', layout=Layout(height='25px', width='50%'),…"
      ]
     },
     "metadata": {},
     "output_type": "display_data"
    },
    {
     "name": "stdout",
     "output_type": "stream",
     "text": [
      "+----------------+-----------------+\n",
      "|ratings_per_user|ratings_per_movie|\n",
      "+----------------+-----------------+\n",
      "|           165.3|            10.37|\n",
      "+----------------+-----------------+\n",
      "\n",
      "Write Successful!"
     ]
    }
   ],
   "source": [
    "query= \"\"\"with t1 as(\n",
    "          Select '1' as key, round((SUM(CASE when rating IS NOT NULL THEN 1 ELSE 0 END)/count(distinct userid)),2) as ratings_per_user\n",
    "          from RATINGS),\n",
    "\n",
    "          t2 as ( Select '1' as key, round((sum(CASE WHEN rating IS NOT NULL THEN 1 ELSE 0 END)/count(distinct movieid)),2) as ratings_per_movie\n",
    "          from RATINGS)\n",
    "\n",
    "          Select t1.ratings_per_user,t2.ratings_per_movie\n",
    "          from t1 inner join t2 on t1.key=t2.key\"\"\"\n",
    "\n",
    "output = spark.sql(query)\n",
    "output.show()\n",
    "\n",
    "output.coalesce(1).write.mode(\"overwrite\").format('csv').option('header', 'true') .option('delimiter', ',').save('/tmp/output_data/Movie_Data_Analysis/avg_number_of_ratings_per_user_vs_per_movie.csv')\n",
    "print(\"Write Successful!\")"
   ]
  },
  {
   "cell_type": "markdown",
   "id": "9ecf29f6",
   "metadata": {},
   "source": [
    "# 10. What is the predominant (frequency based) genre per rating level?"
   ]
  },
  {
   "cell_type": "code",
   "execution_count": 47,
   "id": "c4dab97c",
   "metadata": {},
   "outputs": [
    {
     "data": {
      "application/vnd.jupyter.widget-view+json": {
       "model_id": "",
       "version_major": 2,
       "version_minor": 0
      },
      "text/plain": [
       "FloatProgress(value=0.0, bar_style='info', description='Progress:', layout=Layout(height='25px', width='50%'),…"
      ]
     },
     "metadata": {},
     "output_type": "display_data"
    },
    {
     "name": "stdout",
     "output_type": "stream",
     "text": [
      "+------+-------------------+\n",
      "|genres|most_frequent_genre|\n",
      "+------+-------------------+\n",
      "| Drama|                5.0|\n",
      "| Drama|                4.5|\n",
      "| Drama|                4.0|\n",
      "|Comedy|                3.5|\n",
      "|Comedy|                3.0|\n",
      "|Comedy|                2.5|\n",
      "|Comedy|                2.0|\n",
      "|Comedy|                1.5|\n",
      "|Comedy|                1.0|\n",
      "|Comedy|                0.5|\n",
      "+------+-------------------+\n",
      "\n",
      "Write Successful!"
     ]
    }
   ],
   "source": [
    "query= \"\"\"WITH t1 AS(\n",
    "          SELECT M.genres, R.rating, COUNT(*) as counts,\n",
    "          DENSE_RANK()OVER(PARTITION BY R.rating ORDER BY COUNT(*) DESC) AS ranks\n",
    "          FROM RATINGS R\n",
    "          LEFT OUTER JOIN MOVIES M\n",
    "          ON R.movieID=M.movieID\n",
    "          GROUP BY 1,2)\n",
    "\n",
    "          SELECT genres, rating AS most_frequent_genre FROM t1\n",
    "          WHERE ranks=1\n",
    "          ORDER BY rating DESC\n",
    "          \"\"\"\n",
    "output = spark.sql(query)\n",
    "output.show(10)\n",
    "\n",
    "output.coalesce(1).write.mode(\"overwrite\").format('csv').option('header', 'true') .option('delimiter', ',').save('/tmp/output_data/Movie_Data_Analysis/predominant_genre_per_rating_level.csv')\n",
    "print(\"Write Successful!\")"
   ]
  },
  {
   "cell_type": "markdown",
   "id": "567a7971",
   "metadata": {},
   "source": [
    "# 11. What is the predominant tag per genre and the most tagged genres?"
   ]
  },
  {
   "cell_type": "code",
   "execution_count": 48,
   "id": "be146d2d",
   "metadata": {},
   "outputs": [
    {
     "data": {
      "application/vnd.jupyter.widget-view+json": {
       "model_id": "",
       "version_major": 2,
       "version_minor": 0
      },
      "text/plain": [
       "FloatProgress(value=0.0, bar_style='info', description='Progress:', layout=Layout(height='25px', width='50%'),…"
      ]
     },
     "metadata": {},
     "output_type": "display_data"
    },
    {
     "name": "stdout",
     "output_type": "stream",
     "text": [
      "+--------------------+-----------------+\n",
      "|              genres|most_frequent_tag|\n",
      "+--------------------+-----------------+\n",
      "|             Western|             NULL|\n",
      "|                 War|             NULL|\n",
      "|            Thriller|             NULL|\n",
      "|Sci-Fi|Thriller|IMAX|             NULL|\n",
      "|     Sci-Fi|Thriller|             NULL|\n",
      "|         Sci-Fi|IMAX|           sci-fi|\n",
      "|         Sci-Fi|IMAX|      time-travel|\n",
      "|              Sci-Fi|             NULL|\n",
      "|     Romance|Western|             NULL|\n",
      "|         Romance|War|        Hemingway|\n",
      "+--------------------+-----------------+\n",
      "only showing top 10 rows\n",
      "\n",
      "Write Successful!"
     ]
    }
   ],
   "source": [
    "query= \"\"\"WITH t1 AS(\n",
    "          SELECT M.genres, T.tag, COUNT(*) as counts,\n",
    "          DENSE_RANK()OVER(PARTITION BY M.genres ORDER BY COUNT(*) DESC) AS rankS\n",
    "          FROM MOVIES AS m\n",
    "          LEFT OUTER JOIN TAGS AS t\n",
    "          ON T.movieID=M.movieID\n",
    "          GROUP BY 1,2)\n",
    "\n",
    "          SELECT genres,tag AS most_frequent_tag FROM t1\n",
    "          WHERE ranks=1\n",
    "          ORDER BY genres DESC\n",
    "          \"\"\"\n",
    "output = spark.sql(query)\n",
    "output.show(10)\n",
    "\n",
    "output.coalesce(1).write.mode(\"overwrite\").format('csv').option('header', 'true') .option('delimiter', ',').save('/tmp/output_data/Movie_Data_Analysis/predominant_tag_per_genre.csv')\n",
    "print(\"Write Successful!\")"
   ]
  },
  {
   "cell_type": "markdown",
   "id": "69e50ce5",
   "metadata": {},
   "source": [
    "# 12. What are the most predominant (popularity based) movies?"
   ]
  },
  {
   "cell_type": "code",
   "execution_count": 49,
   "id": "02da90f5",
   "metadata": {},
   "outputs": [
    {
     "data": {
      "application/vnd.jupyter.widget-view+json": {
       "model_id": "",
       "version_major": 2,
       "version_minor": 0
      },
      "text/plain": [
       "FloatProgress(value=0.0, bar_style='info', description='Progress:', layout=Layout(height='25px', width='50%'),…"
      ]
     },
     "metadata": {},
     "output_type": "display_data"
    },
    {
     "name": "stdout",
     "output_type": "stream",
     "text": [
      "+--------------------+------+\n",
      "|               title|counts|\n",
      "+--------------------+------+\n",
      "| Forrest Gump (1994)|   329|\n",
      "|Shawshank Redempt...|   317|\n",
      "| Pulp Fiction (1994)|   307|\n",
      "|Silence of the La...|   279|\n",
      "|  Matrix, The (1999)|   278|\n",
      "|Star Wars: Episod...|   251|\n",
      "|Jurassic Park (1993)|   238|\n",
      "|   Braveheart (1995)|   237|\n",
      "|Terminator 2: Jud...|   224|\n",
      "|Schindler's List ...|   220|\n",
      "+--------------------+------+\n",
      "\n",
      "Write Successful!"
     ]
    }
   ],
   "source": [
    "query= \"\"\"WITH t1 AS(\n",
    "          SELECT R.movieID, M.title, COUNT(DISTINCT R.userId) AS counts,\n",
    "          DENSE_RANK()OVER(ORDER BY COUNT(DISTINCT R.userId) DESC) as ranks\n",
    "          FROM RATINGS R\n",
    "          LEFT OUTER JOIN MOVIES M\n",
    "          ON R.movieId = M.movieId\n",
    "          GROUP BY 1,2)\n",
    "\n",
    "          SELECT title,counts FROM t1\n",
    "          WHERE ranks <= 10\n",
    "          \"\"\"\n",
    "\n",
    "output = spark.sql(query)\n",
    "output.show()\n",
    "\n",
    "output.coalesce(1).write.mode(\"overwrite\").format('csv').option('header', 'true') .option('delimiter', ',').save('/tmp/output_data/Movie_Data_Analysis/predominant_popular_movies.csv')\n",
    "print(\"Write Successful!\")"
   ]
  },
  {
   "cell_type": "markdown",
   "id": "74907b96",
   "metadata": {},
   "source": [
    "# 13. Top 10 movies in terms of average rating (provided more than 30 users reviewed them)"
   ]
  },
  {
   "cell_type": "code",
   "execution_count": 50,
   "id": "151e2e62",
   "metadata": {},
   "outputs": [
    {
     "data": {
      "application/vnd.jupyter.widget-view+json": {
       "model_id": "",
       "version_major": 2,
       "version_minor": 0
      },
      "text/plain": [
       "FloatProgress(value=0.0, bar_style='info', description='Progress:', layout=Layout(height='25px', width='50%'),…"
      ]
     },
     "metadata": {},
     "output_type": "display_data"
    },
    {
     "name": "stdout",
     "output_type": "stream",
     "text": [
      "+--------------------+-----------+-----+\n",
      "|               title| avg_rating|ranks|\n",
      "+--------------------+-----------+-----+\n",
      "|Shawshank Redempt...|4.429022082|    1|\n",
      "|Lawrence of Arabi...|        4.3|    2|\n",
      "|Godfather, The (1...|  4.2890625|    3|\n",
      "|   Fight Club (1999)| 4.27293578|    4|\n",
      "|Cool Hand Luke (1...|4.271929825|    5|\n",
      "|Dr. Strangelove o...|4.268041237|    6|\n",
      "|  Rear Window (1954)|4.261904762|    7|\n",
      "|Godfather: Part I...|4.259689922|    8|\n",
      "|Departed, The (2006)|4.252336449|    9|\n",
      "|   Goodfellas (1990)|       4.25|   10|\n",
      "+--------------------+-----------+-----+\n",
      "\n",
      "Write Successful!"
     ]
    }
   ],
   "source": [
    "query= \"\"\"WITH t1 AS(\n",
    "          SELECT movieid,avg(rating) AS avg_rating,\n",
    "          DENSE_RANK()OVER (ORDER BY AVG(rating) DESC) AS ranks\n",
    "          FROM RATINGS\n",
    "          GROUP BY 1\n",
    "          HAVING COUNT(DISTINCT userId)>30)\n",
    "\n",
    "          SELECT M.title, ROUND(t1.avg_rating,9) AS avg_rating,t1.ranks FROM t1\n",
    "          LEFT OUTER JOIN MOVIES M\n",
    "          ON t1.movieId=M.movieId\n",
    "          where ranks<=10\n",
    "          \"\"\"\n",
    "\n",
    "output = spark.sql(query)\n",
    "output.show()\n",
    "\n",
    "output.coalesce(1).write.mode(\"overwrite\").format('csv').option('header', 'true') .option('delimiter', ',').save('/tmp/output_data/Movie_Data_Analysis/top_ten_movies_in_terms_of_avg_rating.csv')\n",
    "print(\"Write Successful!\")"
   ]
  }
 ],
 "metadata": {
  "kernelspec": {
   "display_name": "PySpark",
   "language": "python",
   "name": "pysparkkernel"
  },
  "language_info": {
   "codemirror_mode": {
    "name": "python",
    "version": 3
   },
   "file_extension": ".py",
   "mimetype": "text/x-python",
   "name": "pyspark",
   "pygments_lexer": "python3"
  }
 },
 "nbformat": 4,
 "nbformat_minor": 5
}
